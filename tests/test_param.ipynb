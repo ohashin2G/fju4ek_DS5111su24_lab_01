{
 "cells": [
  {
   "cell_type": "code",
   "execution_count": 1,
   "metadata": {},
   "outputs": [],
   "source": [
    "from collections import Counter\n",
    "import requests\n"
   ]
  },
  {
   "cell_type": "code",
   "execution_count": 2,
   "metadata": {},
   "outputs": [
    {
     "name": "stdout",
     "output_type": "stream",
     "text": [
      "Book ID: 17192, Word Count: 10231\n",
      "Book ID: 932, Word Count: 10141\n",
      "Book ID: 1063, Word Count: 5382\n",
      "Book ID: 10031, Word Count: 63934\n",
      "Book ID: 14082, Word Count: 5351\n"
     ]
    }
   ],
   "source": [
    "book_ids = (\"17192\", \"932\", \"1063\", \"10031\", \"14082\")\n",
    "all_text = \"\"\n",
    "\n",
    "# Loop through `book_ids` and download each book\n",
    "for id in book_ids:\n",
    "\turl = f\"https://www.gutenberg.org/cache/epub/{id}/pg{id}.txt\"\n",
    "\tresponse = requests.get(url)\n",
    "\ttext = response.text\n",
    "\twords = text.split()\n",
    "\tcount_words = Counter(words)\n",
    "\tprint(f\"Book ID: {id}, Word Count: {len(words)}\")\n",
    "# WHEN the count_words function is called\n",
    "words = all_text.split()\n",
    "\n",
    "\n",
    "\n",
    "\n",
    "\n",
    "#count_words = Counter(words)\n",
    "#words = len(list(count_words))\n",
    "#words\n",
    "\n"
   ]
  }
 ],
 "metadata": {
  "kernelspec": {
   "display_name": "Python 3",
   "language": "python",
   "name": "python3"
  },
  "language_info": {
   "codemirror_mode": {
    "name": "ipython",
    "version": 3
   },
   "file_extension": ".py",
   "mimetype": "text/x-python",
   "name": "python",
   "nbconvert_exporter": "python",
   "pygments_lexer": "ipython3",
   "version": "3.11.5"
  }
 },
 "nbformat": 4,
 "nbformat_minor": 2
}
